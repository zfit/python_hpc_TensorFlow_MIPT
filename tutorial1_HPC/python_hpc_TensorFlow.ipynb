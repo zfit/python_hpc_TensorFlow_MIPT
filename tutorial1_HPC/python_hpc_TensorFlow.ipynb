{
 "cells": [
  {
   "cell_type": "markdown",
   "metadata": {},
   "source": [
    "# HPC in Python with TensorFlow"
   ]
  },
  {
   "cell_type": "code",
   "execution_count": 1,
   "metadata": {},
   "outputs": [],
   "source": [
    "try:\n",
    "    import google.colab\n",
    "except ImportError:\n",
    "    pass\n",
    "else:\n",
    "    !pip install zfit numba numpy tensorflow_probability"
   ]
  },
  {
   "cell_type": "code",
   "execution_count": 2,
   "metadata": {},
   "outputs": [],
   "source": [
    "import tensorflow as tf"
   ]
  },
  {
   "cell_type": "markdown",
   "metadata": {},
   "source": [
    "What we will see (not in the Jupyter Notebook) are a bunch of messages, including the following:\n",
    "`tensorflow/core/platform/cpu_feature_guard.cc:143] Your CPU supports instructions that this TensorFlow binary was not compiled to use: SSE4.1 SSE4.2 AVX AVX2 FMA`\n",
    "\n",
    "What could they mean?\n",
    "\n",
    "AVX stands for Advanced Vector Extensions and are instruction that the CPU can perform. They are specializations on vector operations (remember? SIMD, CPU inststruction set, etc.)\n",
    "\n",
    "Why do they appear?\n",
    "\n",
    "The code that we are using was not compiled with this flag on. This means, TensorFlow assumes that the CPU does not support this instructions and instead uses non-optimized ones. The reason is that this allows the binary (=compiled code) to also be run on a CPU that does not support then. While we use only some speed.\n",
    "(yes, technically TensorFlow can be faster when compiled natively on your computer, but then it takes time and effort)"
   ]
  },
  {
   "cell_type": "code",
   "execution_count": 3,
   "metadata": {},
   "outputs": [],
   "source": [
    "import tensorflow_probability as tfp\n",
    "import zfit\n",
    "from zfit import z\n",
    "import numpy as np\n",
    "import numba"
   ]
  },
  {
   "cell_type": "markdown",
   "metadata": {},
   "source": [
    "Let's start with a simple comparison of Numpy, an AOT compiled library, versus pure Python"
   ]
  },
  {
   "cell_type": "code",
   "execution_count": 4,
   "metadata": {},
   "outputs": [],
   "source": [
    "size1 = 100000\n",
    "list1 = [np.random.uniform() for _ in range(size1)]\n",
    "list2 = [np.random.uniform() for _ in range(size1)]\n",
    "list_zeros = [0] * size1\n",
    "\n",
    "ar1 = np.array(list1)\n",
    "ar2 = np.random.uniform(size=size1)  # way more efficient!\n",
    "ar_zeros = np.zeros_like(ar1) # quite useful function the *_like -> like the object\n",
    "# we could also create the below, in general better:\n",
    "# ar_empty = np.empty(shape=size1, dtype=np.float64)"
   ]
  },
  {
   "cell_type": "code",
   "execution_count": 5,
   "metadata": {},
   "outputs": [
    {
     "name": "stdout",
     "output_type": "stream",
     "text": [
      "9.51 ms ± 155 µs per loop (mean ± std. dev. of 7 runs, 100 loops each)\n"
     ]
    }
   ],
   "source": [
    "%%timeit\n",
    "for i in range(size1):\n",
    "    list_zeros[i] = list1[i] + list2[i]"
   ]
  },
  {
   "cell_type": "code",
   "execution_count": 6,
   "metadata": {},
   "outputs": [
    {
     "name": "stdout",
     "output_type": "stream",
     "text": [
      "41.4 µs ± 1.36 µs per loop (mean ± std. dev. of 7 runs, 10000 loops each)\n"
     ]
    }
   ],
   "source": [
    "%%timeit\n",
    "ar1 + ar2"
   ]
  },
  {
   "cell_type": "markdown",
   "metadata": {},
   "source": [
    "( _playground_ : we can also try assignements here or simliar)"
   ]
  },
  {
   "cell_type": "markdown",
   "metadata": {},
   "source": [
    "### Fast and slow\n",
    "\n",
    "Before we go deeper into the topic, we can draw two conclusions:\n",
    "- slow Python is not \"slow\": it is still blazingly fast on an absolute scale, e.g if you need to loop over a few hundred points, it's still nothing. But it can add up!\n",
    "- Numpy is a factor of 300 faster for this case (and: better reabable!)\n",
    "\n",
    "=> there is _no reason_ to ever add (numerical) arrays with a for loop in Python (except for numba jit)"
   ]
  },
  {
   "cell_type": "markdown",
   "metadata": {},
   "source": [
    "As mentioned, TensorFlow is basically Numpy. Let's check that out"
   ]
  },
  {
   "cell_type": "code",
   "execution_count": 7,
   "metadata": {},
   "outputs": [
    {
     "data": {
      "text/plain": [
       "array([0.71323006, 4.0400747 , 5.81932726, 3.45237458, 5.39951802,\n",
       "       4.81768572, 8.58420365, 7.1927094 , 4.46526211, 1.19496194])"
      ]
     },
     "execution_count": 7,
     "metadata": {},
     "output_type": "execute_result"
    }
   ],
   "source": [
    "rnd1_np = np.random.uniform(size=10, low=0, high=10)\n",
    "rnd1_np  # adding a return value on the last line without assigning it prints the value"
   ]
  },
  {
   "cell_type": "code",
   "execution_count": 8,
   "metadata": {},
   "outputs": [],
   "source": [
    "rnd1 = tf.random.uniform(shape=(10,),  # notice the \"shape\" argument: it's more picky than Numpy\n",
    "                         minval=0,\n",
    "                         maxval=10,\n",
    "                         dtype=tf.float64)\n",
    "rnd2 = tf.random.uniform(shape=(10,),\n",
    "                         minval=0,\n",
    "                         maxval=10,\n",
    "                         dtype=tf.float64)"
   ]
  },
  {
   "cell_type": "code",
   "execution_count": 9,
   "metadata": {},
   "outputs": [
    {
     "data": {
      "text/plain": [
       "<tf.Tensor: shape=(10,), dtype=float64, numpy=\n",
       "array([6.70239689, 6.79552786, 2.59290637, 5.41634096, 5.08920428,\n",
       "       1.85237492, 2.60647575, 8.87198757, 9.07753705, 9.59340374])>"
      ]
     },
     "execution_count": 9,
     "metadata": {},
     "output_type": "execute_result"
    }
   ],
   "source": [
    "rnd1"
   ]
  },
  {
   "cell_type": "markdown",
   "metadata": {},
   "source": [
    "This is in fact a \"numpy array wrapped\" and can explicitly be converted to an array"
   ]
  },
  {
   "cell_type": "code",
   "execution_count": 10,
   "metadata": {},
   "outputs": [
    {
     "data": {
      "text/plain": [
       "array([6.70239689, 6.79552786, 2.59290637, 5.41634096, 5.08920428,\n",
       "       1.85237492, 2.60647575, 8.87198757, 9.07753705, 9.59340374])"
      ]
     },
     "execution_count": 10,
     "metadata": {},
     "output_type": "execute_result"
    }
   ],
   "source": [
    "rnd1.numpy()"
   ]
  },
  {
   "cell_type": "markdown",
   "metadata": {},
   "source": [
    "Other operations act as we would expect it"
   ]
  },
  {
   "cell_type": "code",
   "execution_count": 11,
   "metadata": {},
   "outputs": [
    {
     "data": {
      "text/plain": [
       "<tf.Tensor: shape=(10,), dtype=float64, numpy=\n",
       "array([16.70239689, 16.79552786, 12.59290637, 15.41634096, 15.08920428,\n",
       "       11.85237492, 12.60647575, 18.87198757, 19.07753705, 19.59340374])>"
      ]
     },
     "execution_count": 11,
     "metadata": {},
     "output_type": "execute_result"
    }
   ],
   "source": [
    "rnd1 + 10"
   ]
  },
  {
   "cell_type": "markdown",
   "metadata": {},
   "source": [
    "... and it converts itself (often) to Numpy when needed."
   ]
  },
  {
   "cell_type": "code",
   "execution_count": 12,
   "metadata": {},
   "outputs": [
    {
     "data": {
      "text/plain": [
       "array([2.58889878, 2.60682333, 1.6102504 , 2.32730337, 2.25592648,\n",
       "       1.36101981, 1.61445835, 2.97858818, 3.01289513, 3.09732203])"
      ]
     },
     "execution_count": 12,
     "metadata": {},
     "output_type": "execute_result"
    }
   ],
   "source": [
    "np.sqrt(rnd1)"
   ]
  },
  {
   "cell_type": "markdown",
   "metadata": {},
   "source": [
    "We can slice it..."
   ]
  },
  {
   "cell_type": "code",
   "execution_count": 13,
   "metadata": {},
   "outputs": [
    {
     "data": {
      "text/plain": [
       "<tf.Tensor: shape=(2,), dtype=float64, numpy=array([6.79552786, 2.59290637])>"
      ]
     },
     "execution_count": 13,
     "metadata": {},
     "output_type": "execute_result"
    }
   ],
   "source": [
    "rnd1[1:3]"
   ]
  },
  {
   "cell_type": "markdown",
   "metadata": {},
   "source": [
    "...expand it...."
   ]
  },
  {
   "cell_type": "code",
   "execution_count": 14,
   "metadata": {},
   "outputs": [
    {
     "data": {
      "text/plain": [
       "<tf.Tensor: shape=(1, 10, 1), dtype=float64, numpy=\n",
       "array([[[6.70239689],\n",
       "        [6.79552786],\n",
       "        [2.59290637],\n",
       "        [5.41634096],\n",
       "        [5.08920428],\n",
       "        [1.85237492],\n",
       "        [2.60647575],\n",
       "        [8.87198757],\n",
       "        [9.07753705],\n",
       "        [9.59340374]]])>"
      ]
     },
     "execution_count": 14,
     "metadata": {},
     "output_type": "execute_result"
    }
   ],
   "source": [
    "rnd1[None, :, None]"
   ]
  },
  {
   "cell_type": "markdown",
   "metadata": {},
   "source": [
    "...and broadcast with the known (maybe slightly stricter) rules"
   ]
  },
  {
   "cell_type": "code",
   "execution_count": 15,
   "metadata": {},
   "outputs": [],
   "source": [
    "matrix1 = rnd1[None, :] * rnd1[:, None]"
   ]
  },
  {
   "cell_type": "markdown",
   "metadata": {},
   "source": [
    "## Equivalent operations\n",
    "\n",
    "Many operations that exist in Numpy also exist in TensorFlow, sometimes with a different name.\n",
    "\n",
    "The concept however is exactly the same: we have higher level objects such as Tensors (or arrays) and call operations on it with arguments. This is a \"strong limitation\" (theoretically) of what we can do, however, since we do math, there is only a limited set we need, and in practice this suffices for 98% of the cases.\n",
    "\n",
    "Therefore we won't dive too deep into the possibilities of TensorFlow/Numpy regarding operations but it is suggested to [read the API docs](https://www.tensorflow.org/versions), many are self-explanatory. It can be surprising that there is also some support for more exotic elements such as [RaggedTensors and operations](https://www.tensorflow.org/api_docs/python/tf/ragged?) and [SparseTensors and operations](https://www.tensorflow.org/api_docs/python/tf/sparse?)\n",
    "\n",
    "Mostly, the differences and the terminology will be introduced."
   ]
  },
  {
   "cell_type": "code",
   "execution_count": 16,
   "metadata": {},
   "outputs": [
    {
     "data": {
      "text/plain": [
       "<tf.Tensor: shape=(10,), dtype=float64, numpy=\n",
       "array([2.58889878, 2.60682333, 1.6102504 , 2.32730337, 2.25592648,\n",
       "       1.36101981, 1.61445835, 2.97858818, 3.01289513, 3.09732203])>"
      ]
     },
     "execution_count": 16,
     "metadata": {},
     "output_type": "execute_result"
    }
   ],
   "source": [
    "tf.sqrt(rnd1)"
   ]
  },
  {
   "cell_type": "code",
   "execution_count": 134,
   "metadata": {},
   "outputs": [
    {
     "data": {
      "text/plain": [
       "<tf.Tensor: shape=(10,), dtype=float64, numpy=\n",
       "array([392.74809437, 398.20539735, 151.93953018, 317.38758917,\n",
       "       298.2179833 , 108.54575323, 152.73467128, 519.8821064 ,\n",
       "       531.92692658, 562.15576303])>"
      ]
     },
     "execution_count": 134,
     "metadata": {},
     "output_type": "execute_result"
    }
   ],
   "source": [
    "tf.reduce_sum(matrix1, axis=0)  # with the axis argument to specify over which to reduce"
   ]
  },
  {
   "cell_type": "markdown",
   "metadata": {},
   "source": [
    "## What we can't do: assignements\n",
    "\n",
    "The idea of TensorFlow evolves around building a Graph$^{1)}$, the Eager (Numpy-like) execution is more of a \"we get it for free addition\", but does not lead the development ideas. This has one profound implication, namely that we cannot make an _assignement_ to a Tensor, because it is a node in a graph. The logic just does not work (exception: `tf.Variable`$^{2)}). This does not mean that TensorFlow would not perform in-place operations _behind the scenes_ - it very well does if it is save to do so. Since TensorFlow knows the whole graph with all dependencies, this can be figured out.\n",
    "\n",
    "Even if EagerMode, assignements could work (as for Numpy arrays), they are forbidden for consistency (one of the great plus points of TensorFlow).\n",
    "\n",
    "### TensorFlow list\n",
    "\n",
    "an advanced structure that can also be modified is the [`tf.TensorArray`](https://www.tensorflow.org/api_docs/python/tf/TensorArray?), which acts like a list or ArrayList (in other languages). It is however advanced and not usually used, so we won't go into the details here.\n",
    "\n",
    "_1) if you're familiar with TensorFlow 1, this statement would suprise you as pretty obvious; but in TensorFlow 2, this is luckily more hidden.  \n",
    "2) more general, `ResourceHandler`_"
   ]
  },
  {
   "cell_type": "code",
   "execution_count": 136,
   "metadata": {},
   "outputs": [],
   "source": [
    "rnd1_np[5] = 42"
   ]
  },
  {
   "cell_type": "code",
   "execution_count": 138,
   "metadata": {},
   "outputs": [
    {
     "name": "stdout",
     "output_type": "stream",
     "text": [
      "'tensorflow.python.framework.ops.EagerTensor' object does not support item assignment\n"
     ]
    }
   ],
   "source": [
    "try:\n",
    "    rnd1[5] = 42\n",
    "except TypeError as error:\n",
    "    print(error)"
   ]
  },
  {
   "cell_type": "markdown",
   "metadata": {},
   "source": [
    "### Speed comparison\n",
    "\n",
    "Let's do the same calculation as with Numpy. The result should be comparable: both are AOT compiled libraries specialized on numerical, vectorized operations."
   ]
  },
  {
   "cell_type": "code",
   "execution_count": 18,
   "metadata": {},
   "outputs": [],
   "source": [
    "rnd1_big = tf.random.uniform(shape=(size1,),  # notice the \"shape\" argument: it's more picky than Numpy\n",
    "                         minval=0,\n",
    "                         maxval=10,\n",
    "                         dtype=tf.float64)\n",
    "rnd2_big = tf.random.uniform(shape=(size1,),\n",
    "                         minval=0,\n",
    "                         maxval=10,\n",
    "                         dtype=tf.float64)"
   ]
  },
  {
   "cell_type": "code",
   "execution_count": 19,
   "metadata": {},
   "outputs": [
    {
     "name": "stdout",
     "output_type": "stream",
     "text": [
      "48.5 µs ± 1.87 µs per loop (mean ± std. dev. of 7 runs, 10000 loops each)\n"
     ]
    }
   ],
   "source": [
    "%%timeit\n",
    "rnd1_big + rnd2_big"
   ]
  },
  {
   "cell_type": "markdown",
   "metadata": {},
   "source": [
    "Looks like the same as Numpy. Let's compare with smaller arrays"
   ]
  },
  {
   "cell_type": "code",
   "execution_count": 20,
   "metadata": {},
   "outputs": [],
   "source": [
    "rnd1_np = rnd1.numpy()\n",
    "rnd2_np = rnd2.numpy()"
   ]
  },
  {
   "cell_type": "code",
   "execution_count": 21,
   "metadata": {},
   "outputs": [
    {
     "name": "stdout",
     "output_type": "stream",
     "text": [
      "363 ns ± 3.21 ns per loop (mean ± std. dev. of 7 runs, 1000000 loops each)\n"
     ]
    }
   ],
   "source": [
    "%%timeit\n",
    "rnd1_np + rnd2_np"
   ]
  },
  {
   "cell_type": "code",
   "execution_count": 22,
   "metadata": {},
   "outputs": [
    {
     "name": "stdout",
     "output_type": "stream",
     "text": [
      "8.61 µs ± 223 ns per loop (mean ± std. dev. of 7 runs, 100000 loops each)\n"
     ]
    }
   ],
   "source": [
    "%%timeit\n",
    "rnd1 + rnd2"
   ]
  },
  {
   "cell_type": "markdown",
   "metadata": {},
   "source": [
    "### TensorFlow is slow?\n",
    "\n",
    "We see now a significant difference in the runtime! This is because TensorFlow has a larger overhead than Numpy. As seen before, this is not/barely noticable for larger arrays, however for very small calculations, this is visible.\n",
    "\n",
    "There is more overhead because TensorFlow tries to be \"smarter\" about many things than Numpy and does not simply directly execute the computation.\n",
    "\n",
    "The cost is a slowdown on very small operations but a better scaling and improved performance with larger arrays and more complicated calculations."
   ]
  },
  {
   "cell_type": "code",
   "execution_count": 23,
   "metadata": {},
   "outputs": [],
   "source": [
    "# size_big = 10  # numpy faster\n",
    "size_big = 20000  # sameish\n",
    "# size_big = 100000  # TF faster\n",
    "# size_big = 1000000  # TF faster\n",
    "# size_big = 10000000  # TF faster\n",
    "# size_big = 100000000  # TF faster"
   ]
  },
  {
   "cell_type": "code",
   "execution_count": 24,
   "metadata": {},
   "outputs": [
    {
     "name": "stdout",
     "output_type": "stream",
     "text": [
      "239 µs ± 45.6 µs per loop (mean ± std. dev. of 7 runs, 1000 loops each)\n"
     ]
    }
   ],
   "source": [
    "%%timeit\n",
    "tf.random.uniform(shape=(size_big,), dtype=tf.float64) + tf.random.uniform(shape=(size_big,), dtype=tf.float64)"
   ]
  },
  {
   "cell_type": "code",
   "execution_count": 25,
   "metadata": {},
   "outputs": [
    {
     "name": "stdout",
     "output_type": "stream",
     "text": [
      "249 µs ± 1.04 µs per loop (mean ± std. dev. of 7 runs, 1000 loops each)\n"
     ]
    }
   ],
   "source": [
    "%%timeit\n",
    "np.random.uniform(size=(size_big,)) + np.random.uniform(size=(size_big,))"
   ]
  },
  {
   "cell_type": "markdown",
   "metadata": {},
   "source": [
    "## TensorFlow kernels\n",
    "\n",
    "In general, TensorFlow is preciser in what input arguments are required compared to Numpy and does less automatic dtype casting and asks more explicit for shapes. For example, integers don't work in the logarithm. However, this error message illustrates very well the kernel dispatch system of TensorFlow, so lets do it!"
   ]
  },
  {
   "cell_type": "code",
   "execution_count": 26,
   "metadata": {},
   "outputs": [
    {
     "name": "stdout",
     "output_type": "stream",
     "text": [
      "Could not find valid device for node.\n",
      "Node:{{node Log}}\n",
      "All kernels registered for op Log :\n",
      "  device='XLA_GPU'; T in [DT_FLOAT, DT_DOUBLE, DT_COMPLEX64, DT_BFLOAT16, DT_COMPLEX128, DT_HALF]\n",
      "  device='XLA_CPU'; T in [DT_FLOAT, DT_DOUBLE, DT_COMPLEX64, DT_BFLOAT16, DT_COMPLEX128, DT_HALF]\n",
      "  device='XLA_CPU_JIT'; T in [DT_FLOAT, DT_DOUBLE, DT_COMPLEX64, DT_BFLOAT16, DT_COMPLEX128, DT_HALF]\n",
      "  device='XLA_GPU_JIT'; T in [DT_FLOAT, DT_DOUBLE, DT_COMPLEX64, DT_BFLOAT16, DT_COMPLEX128, DT_HALF]\n",
      "  device='GPU'; T in [DT_DOUBLE]\n",
      "  device='GPU'; T in [DT_HALF]\n",
      "  device='GPU'; T in [DT_FLOAT]\n",
      "  device='CPU'; T in [DT_COMPLEX128]\n",
      "  device='CPU'; T in [DT_COMPLEX64]\n",
      "  device='CPU'; T in [DT_BFLOAT16]\n",
      "  device='CPU'; T in [DT_DOUBLE]\n",
      "  device='CPU'; T in [DT_HALF]\n",
      "  device='CPU'; T in [DT_FLOAT]\n",
      " [Op:Log]\n"
     ]
    }
   ],
   "source": [
    "try:\n",
    "    tf.math.log(5)\n",
    "except tf.errors.NotFoundError as error:\n",
    "    print(error)"
   ]
  },
  {
   "cell_type": "markdown",
   "metadata": {},
   "source": [
    "What we see here: it searches the registered kernels and does not find any that supports this operation. We find different classifications:\n",
    "- GPU: normal GPU kernel\n",
    "- CPU: normal CPU kernel\n",
    "- XLA: [Accelerated Linear Algebra](https://www.tensorflow.org/xla) is a high-level compiler that can fuse operations, which would result in single calls to a kernel, to a single kernel."
   ]
  },
  {
   "cell_type": "markdown",
   "metadata": {},
   "source": [
    "## tf.function\n",
    "\n",
    "We now want to see the JIT in action. Therefore, we use the example from the slides and start modifying it."
   ]
  },
  {
   "cell_type": "code",
   "execution_count": 27,
   "metadata": {},
   "outputs": [],
   "source": [
    "def add_log(x, y):\n",
    "    print('running Python')\n",
    "    tf.print(\"running TensorFlow\")\n",
    "    x_sq = tf.math.log(x)\n",
    "    y_sq = tf.math.log(y)\n",
    "    return x_sq + y_sq"
   ]
  },
  {
   "cell_type": "markdown",
   "metadata": {},
   "source": [
    "As seen before, we can use it like Python. To make sure that we know when the actual Python is executed, we inserted a print and a `tf.print`, the latter is a TensorFlow operation and therefore expected to be called everytime we compute something."
   ]
  },
  {
   "cell_type": "code",
   "execution_count": 28,
   "metadata": {},
   "outputs": [
    {
     "name": "stdout",
     "output_type": "stream",
     "text": [
      "running Python\n",
      "running TensorFlow\n"
     ]
    },
    {
     "data": {
      "text/plain": [
       "<tf.Tensor: shape=(), dtype=float32, numpy=2.9957323>"
      ]
     },
     "execution_count": 28,
     "metadata": {},
     "output_type": "execute_result"
    }
   ],
   "source": [
    "add_log(4., 5.)"
   ]
  },
  {
   "cell_type": "code",
   "execution_count": 29,
   "metadata": {},
   "outputs": [
    {
     "name": "stdout",
     "output_type": "stream",
     "text": [
      "running Python\n",
      "running TensorFlow\n"
     ]
    },
    {
     "data": {
      "text/plain": [
       "<tf.Tensor: shape=(), dtype=float32, numpy=7.6889133>"
      ]
     },
     "execution_count": 29,
     "metadata": {},
     "output_type": "execute_result"
    }
   ],
   "source": [
    "add_log(42., 52.)"
   ]
  },
  {
   "cell_type": "markdown",
   "metadata": {},
   "source": [
    "As we see, both the Python and TensorFlow operation execute. Now we can do the same with a decorator. Note that so far we entered pure Python numbers, not Tensors. Since we ran in eager mode, this did not matter so far."
   ]
  },
  {
   "cell_type": "code",
   "execution_count": 30,
   "metadata": {},
   "outputs": [],
   "source": [
    "@tf.function(autograph=True)\n",
    "def add_log_tf(x, y):\n",
    "    print('running Python')\n",
    "    tf.print(\"running TensorFlow\")\n",
    "    x_sq = tf.math.log(x)\n",
    "    y_sq = tf.math.log(y)\n",
    "    return x_sq + y_sq"
   ]
  },
  {
   "cell_type": "code",
   "execution_count": 31,
   "metadata": {},
   "outputs": [
    {
     "name": "stdout",
     "output_type": "stream",
     "text": [
      "running Python\n",
      "running TensorFlow\n"
     ]
    },
    {
     "data": {
      "text/plain": [
       "<tf.Tensor: shape=(), dtype=float32, numpy=0.6931472>"
      ]
     },
     "execution_count": 31,
     "metadata": {},
     "output_type": "execute_result"
    }
   ],
   "source": [
    "add_log_tf(1., 2.)"
   ]
  },
  {
   "cell_type": "code",
   "execution_count": 32,
   "metadata": {},
   "outputs": [
    {
     "name": "stdout",
     "output_type": "stream",
     "text": [
      "running Python\n",
      "running TensorFlow\n"
     ]
    },
    {
     "data": {
      "text/plain": [
       "<tf.Tensor: shape=(), dtype=float32, numpy=5.442418>"
      ]
     },
     "execution_count": 32,
     "metadata": {},
     "output_type": "execute_result"
    }
   ],
   "source": [
    "add_log_tf(11., 21.)  # again with different numbers"
   ]
  },
  {
   "cell_type": "markdown",
   "metadata": {},
   "source": [
    "As we see, Python is still run: this happens because 11. is not equal to 1., TensorFlow does not convert those to Tensors. Lets use it in the right way, with Tensors"
   ]
  },
  {
   "cell_type": "code",
   "execution_count": 33,
   "metadata": {},
   "outputs": [
    {
     "name": "stdout",
     "output_type": "stream",
     "text": [
      "running Python\n",
      "running TensorFlow\n"
     ]
    },
    {
     "data": {
      "text/plain": [
       "<tf.Tensor: shape=(), dtype=float32, numpy=0.6931472>"
      ]
     },
     "execution_count": 33,
     "metadata": {},
     "output_type": "execute_result"
    }
   ],
   "source": [
    "add_log_tf(tf.constant(1.), tf.constant(2.))  # first compilation"
   ]
  },
  {
   "cell_type": "code",
   "execution_count": 34,
   "metadata": {},
   "outputs": [
    {
     "name": "stdout",
     "output_type": "stream",
     "text": [
      "running TensorFlow\n"
     ]
    },
    {
     "data": {
      "text/plain": [
       "<tf.Tensor: shape=(), dtype=float32, numpy=5.488938>"
      ]
     },
     "execution_count": 34,
     "metadata": {},
     "output_type": "execute_result"
    }
   ],
   "source": [
    "add_log_tf(tf.constant(11.), tf.constant(22.))"
   ]
  },
  {
   "cell_type": "markdown",
   "metadata": {},
   "source": [
    "Now only the TensorFlow operations get executed! Everything else became static. We can illustrate this more extremely here"
   ]
  },
  {
   "cell_type": "code",
   "execution_count": 35,
   "metadata": {},
   "outputs": [],
   "source": [
    "@tf.function(autograph=True)\n",
    "def add_rnd(x):\n",
    "    print('running Python')\n",
    "    tf.print(\"running TensorFlow\")\n",
    "    rnd_np = np.random.uniform()\n",
    "    rnd_tf = tf.random.uniform(shape=())\n",
    "    return x * rnd_np, x * rnd_tf"
   ]
  },
  {
   "cell_type": "code",
   "execution_count": 36,
   "metadata": {},
   "outputs": [
    {
     "name": "stdout",
     "output_type": "stream",
     "text": [
      "running Python\n",
      "running TensorFlow\n"
     ]
    },
    {
     "data": {
      "text/plain": [
       "(<tf.Tensor: shape=(), dtype=float32, numpy=0.51427203>,\n",
       " <tf.Tensor: shape=(), dtype=float32, numpy=0.91420484>)"
      ]
     },
     "execution_count": 36,
     "metadata": {},
     "output_type": "execute_result"
    }
   ],
   "source": [
    "add_rnd(tf.constant(1.))"
   ]
  },
  {
   "cell_type": "markdown",
   "metadata": {},
   "source": [
    "The first time, the numpy code was executed as well, no difference so far. However, running it a second time, only the TensorFlow parts can change"
   ]
  },
  {
   "cell_type": "code",
   "execution_count": 37,
   "metadata": {},
   "outputs": [
    {
     "name": "stdout",
     "output_type": "stream",
     "text": [
      "running TensorFlow\n"
     ]
    },
    {
     "data": {
      "text/plain": [
       "(<tf.Tensor: shape=(), dtype=float32, numpy=0.51427203>,\n",
       " <tf.Tensor: shape=(), dtype=float32, numpy=0.24060977>)"
      ]
     },
     "execution_count": 37,
     "metadata": {},
     "output_type": "execute_result"
    }
   ],
   "source": [
    "add_rnd(tf.constant(1.))"
   ]
  },
  {
   "cell_type": "code",
   "execution_count": 38,
   "metadata": {},
   "outputs": [
    {
     "name": "stdout",
     "output_type": "stream",
     "text": [
      "running TensorFlow\n"
     ]
    },
    {
     "data": {
      "text/plain": [
       "(<tf.Tensor: shape=(), dtype=float32, numpy=1.0285441>,\n",
       " <tf.Tensor: shape=(), dtype=float32, numpy=1.770922>)"
      ]
     },
     "execution_count": 38,
     "metadata": {},
     "output_type": "execute_result"
    }
   ],
   "source": [
    "add_rnd(tf.constant(2.))"
   ]
  },
  {
   "cell_type": "markdown",
   "metadata": {},
   "source": [
    "We see now clearly: TensorFlow executes the function but _only cares about the TensorFlow operations_ , everything else is regarded as static. This can be a large pitfall! If we would execute this function _without_ the decorator, we would get a different result, since Numpy is also sampling a new random variable every time.\n",
    "\n",
    "### large functions\n",
    "\n",
    "That having said, we can build graphs that require thousands of lines of Python code to stick them together correctly. Function calls in function calls etc are all possible."
   ]
  },
  {
   "cell_type": "markdown",
   "metadata": {},
   "source": [
    "### Shapes\n",
    "\n",
    "Tensors have a shape, similar to Numpy arrays. But Tensors have two kind of shapes, a static and a dynamic shape. The static shape is what can be inferred _before_ executing the computation while the dynamic shape is only inferred during the execution of the code. The latter typically arises with random variables and masking or cuts.\n",
    "\n",
    "We can access the static shape with `Tensor.shape`"
   ]
  },
  {
   "cell_type": "markdown",
   "metadata": {},
   "source": [
    "If the shape is known inside a graph, this will be the same. If the shape is unknown, the unknown axis will be None."
   ]
  },
  {
   "cell_type": "code",
   "execution_count": 129,
   "metadata": {},
   "outputs": [],
   "source": [
    "@tf.function(autograph=False)\n",
    "def func_shape(x):\n",
    "    print(f\"static shape: {x.shape}\")  # static shape\n",
    "    tf.print('dynamic shape ',tf.shape(x))  # dynamic shape\n",
    "    x = x[x>3.5]\n",
    "    print(f\"static shape cuts applied: {x.shape}\")  # static shape\n",
    "    tf.print('dynamic shape cuts applied',tf.shape(x))  # dynamic shape"
   ]
  },
  {
   "cell_type": "code",
   "execution_count": 130,
   "metadata": {},
   "outputs": [
    {
     "name": "stdout",
     "output_type": "stream",
     "text": [
      "static shape: (10,)\n",
      "static shape cuts applied: (None,)\n",
      "dynamic shape  [10]\n",
      "dynamic shape cuts applied [7]\n"
     ]
    }
   ],
   "source": [
    "func_shape(rnd1)"
   ]
  },
  {
   "cell_type": "markdown",
   "metadata": {},
   "source": [
    "We can access the axes by indexing"
   ]
  },
  {
   "cell_type": "code",
   "execution_count": 131,
   "metadata": {},
   "outputs": [],
   "source": [
    "rnd3 = rnd1[None, :] * rnd1[:, None]"
   ]
  },
  {
   "cell_type": "code",
   "execution_count": 132,
   "metadata": {},
   "outputs": [
    {
     "data": {
      "text/plain": [
       "<tf.Tensor: shape=(), dtype=int32, numpy=10>"
      ]
     },
     "execution_count": 132,
     "metadata": {},
     "output_type": "execute_result"
    }
   ],
   "source": [
    "tf.shape(rnd3)[1]"
   ]
  },
  {
   "cell_type": "code",
   "execution_count": 133,
   "metadata": {},
   "outputs": [
    {
     "data": {
      "text/plain": [
       "10"
      ]
     },
     "execution_count": 133,
     "metadata": {},
     "output_type": "execute_result"
    }
   ],
   "source": [
    "rnd3.shape[1]"
   ]
  },
  {
   "cell_type": "markdown",
   "metadata": {},
   "source": [
    "## Variables\n",
    "\n",
    "TensorFlow offers the possibility to have statefull objects inside a compiled graph (which e.g. is not possible with Numba). The most commonly used one is the `tf.Variable`. Technically, they are automatically captured on the function compilation and belong to it."
   ]
  },
  {
   "cell_type": "code",
   "execution_count": 40,
   "metadata": {},
   "outputs": [],
   "source": [
    "var1 = tf.Variable(1.)"
   ]
  },
  {
   "cell_type": "code",
   "execution_count": 41,
   "metadata": {},
   "outputs": [],
   "source": [
    "@tf.function(autograph=True)\n",
    "def scale_by_var(x):\n",
    "    print('running Python')\n",
    "    tf.print(\"running TensorFlow\")\n",
    "    return x * var1"
   ]
  },
  {
   "cell_type": "code",
   "execution_count": 42,
   "metadata": {},
   "outputs": [
    {
     "name": "stdout",
     "output_type": "stream",
     "text": [
      "running Python\n",
      "running TensorFlow\n"
     ]
    },
    {
     "data": {
      "text/plain": [
       "<tf.Tensor: shape=(), dtype=float32, numpy=1.0>"
      ]
     },
     "execution_count": 42,
     "metadata": {},
     "output_type": "execute_result"
    }
   ],
   "source": [
    "scale_by_var(tf.constant(1.))"
   ]
  },
  {
   "cell_type": "code",
   "execution_count": 43,
   "metadata": {},
   "outputs": [
    {
     "name": "stdout",
     "output_type": "stream",
     "text": [
      "running TensorFlow\n"
     ]
    },
    {
     "data": {
      "text/plain": [
       "<tf.Tensor: shape=(), dtype=float32, numpy=2.0>"
      ]
     },
     "execution_count": 43,
     "metadata": {},
     "output_type": "execute_result"
    }
   ],
   "source": [
    "scale_by_var(tf.constant(2.))"
   ]
  },
  {
   "cell_type": "code",
   "execution_count": 44,
   "metadata": {},
   "outputs": [
    {
     "name": "stdout",
     "output_type": "stream",
     "text": [
      "running TensorFlow\n"
     ]
    },
    {
     "data": {
      "text/plain": [
       "<tf.Tensor: shape=(), dtype=float32, numpy=42.0>"
      ]
     },
     "execution_count": 44,
     "metadata": {},
     "output_type": "execute_result"
    }
   ],
   "source": [
    "var1.assign(42.)\n",
    "scale_by_var(tf.constant(1.))"
   ]
  },
  {
   "cell_type": "markdown",
   "metadata": {},
   "source": [
    "As we see, the output changed. This is of course especially useful in the context of model fitting libraries, be it likelihoods or neural networks."
   ]
  },
  {
   "cell_type": "code",
   "execution_count": 45,
   "metadata": {},
   "outputs": [],
   "source": [
    "def add_rnd(x):\n",
    "    print('running Python')\n",
    "    tf.print(\"running TensorFlow\")\n",
    "    rnd_np = np.random.uniform()\n",
    "    rnd_tf = tf.random.uniform(shape=())\n",
    "    return x * rnd_np, x * rnd_tf"
   ]
  },
  {
   "cell_type": "code",
   "execution_count": 46,
   "metadata": {},
   "outputs": [
    {
     "name": "stdout",
     "output_type": "stream",
     "text": [
      "running Python\n",
      "running TensorFlow\n"
     ]
    },
    {
     "data": {
      "text/plain": [
       "(<tf.Tensor: shape=(), dtype=float32, numpy=0.27471915>,\n",
       " <tf.Tensor: shape=(), dtype=float32, numpy=0.90596545>)"
      ]
     },
     "execution_count": 46,
     "metadata": {},
     "output_type": "execute_result"
    }
   ],
   "source": [
    "add_rnd(tf.constant(1.))"
   ]
  },
  {
   "cell_type": "code",
   "execution_count": 47,
   "metadata": {},
   "outputs": [
    {
     "name": "stdout",
     "output_type": "stream",
     "text": [
      "running Python\n",
      "running TensorFlow\n"
     ]
    },
    {
     "data": {
      "text/plain": [
       "(<tf.Tensor: shape=(), dtype=float32, numpy=1.8032616>,\n",
       " <tf.Tensor: shape=(), dtype=float32, numpy=0.99052715>)"
      ]
     },
     "execution_count": 47,
     "metadata": {},
     "output_type": "execute_result"
    }
   ],
   "source": [
    "add_rnd(tf.constant(2.))"
   ]
  },
  {
   "cell_type": "markdown",
   "metadata": {},
   "source": [
    "This means that we can use Numpy fully compatible in eager mode, but not when decorated."
   ]
  },
  {
   "cell_type": "code",
   "execution_count": 48,
   "metadata": {},
   "outputs": [],
   "source": [
    "def try_np_sqrt(x):\n",
    "    return np.sqrt(x)"
   ]
  },
  {
   "cell_type": "code",
   "execution_count": 49,
   "metadata": {},
   "outputs": [
    {
     "data": {
      "text/plain": [
       "2.236068"
      ]
     },
     "execution_count": 49,
     "metadata": {},
     "output_type": "execute_result"
    }
   ],
   "source": [
    "try_np_sqrt(tf.constant(5.))"
   ]
  },
  {
   "cell_type": "code",
   "execution_count": 50,
   "metadata": {},
   "outputs": [],
   "source": [
    "try_np_sqrt_tf = tf.function(try_np_sqrt, autograph=False)  # equivalent to decorator"
   ]
  },
  {
   "cell_type": "code",
   "execution_count": 51,
   "metadata": {},
   "outputs": [
    {
     "name": "stdout",
     "output_type": "stream",
     "text": [
      "Cannot convert a symbolic Tensor (x:0) to a numpy array.\n"
     ]
    }
   ],
   "source": [
    "try:\n",
    "    try_np_sqrt_tf(tf.constant(5.))\n",
    "except NotImplementedError as error:\n",
    "    print(error)"
   ]
  },
  {
   "cell_type": "markdown",
   "metadata": {},
   "source": [
    "As we see, Numpy complains in the graph mode, given that it cannot handle the Symbolic Tensor."
   ]
  },
  {
   "cell_type": "markdown",
   "metadata": {},
   "source": [
    "Having the `tf.function` decorator means that we can't use any Python dynamicity. What fails when decorated but works nicely if not:"
   ]
  },
  {
   "cell_type": "code",
   "execution_count": 52,
   "metadata": {},
   "outputs": [],
   "source": [
    "def greater_python(x, y):\n",
    "    if x > y:\n",
    "        return True\n",
    "    else:\n",
    "        return False"
   ]
  },
  {
   "cell_type": "code",
   "execution_count": 53,
   "metadata": {},
   "outputs": [
    {
     "data": {
      "text/plain": [
       "False"
      ]
     },
     "execution_count": 53,
     "metadata": {},
     "output_type": "execute_result"
    }
   ],
   "source": [
    "greater_python(tf.constant(1.), tf.constant(2.))"
   ]
  },
  {
   "cell_type": "markdown",
   "metadata": {},
   "source": [
    "This works again, and will fail with the graph decorator."
   ]
  },
  {
   "cell_type": "code",
   "execution_count": 54,
   "metadata": {},
   "outputs": [],
   "source": [
    "greater_python_tf = tf.function(greater_python, autograph=False)"
   ]
  },
  {
   "cell_type": "code",
   "execution_count": 55,
   "metadata": {},
   "outputs": [
    {
     "name": "stdout",
     "output_type": "stream",
     "text": [
      "using a `tf.Tensor` as a Python `bool` is not allowed: AutoGraph is disabled in this function. Try decorating it directly with @tf.function.\n"
     ]
    }
   ],
   "source": [
    "try:\n",
    "    greater_python_tf(tf.constant(1.), tf.constant(2.))\n",
    "except Exception as error:\n",
    "    print(error)"
   ]
  },
  {
   "cell_type": "markdown",
   "metadata": {},
   "source": [
    "The error message hints at something: while this does not work now - Python does not yet now the value of the Tensors so it can't decide whether it will evaluate to True or False - there is the possibility of \"autograph\": it automatically converts (a subset) of Python to TensorFlow: while loops, for loops through Tensors and conditionals. However, this is usually less effective and more errorprone than using explicitly the `tf.*` functions. Lets try it!"
   ]
  },
  {
   "cell_type": "code",
   "execution_count": 56,
   "metadata": {},
   "outputs": [],
   "source": [
    "greater_python_tf_autograph = tf.function(greater_python, autograph=True)"
   ]
  },
  {
   "cell_type": "code",
   "execution_count": 57,
   "metadata": {},
   "outputs": [
    {
     "data": {
      "text/plain": [
       "<tf.Tensor: shape=(), dtype=bool, numpy=False>"
      ]
     },
     "execution_count": 57,
     "metadata": {},
     "output_type": "execute_result"
    }
   ],
   "source": [
    "greater_python_tf_autograph(tf.constant(1.), tf.constant(2.))"
   ]
  },
  {
   "cell_type": "markdown",
   "metadata": {},
   "source": [
    "This now works neatless! But we're never sure.\n",
    "\n",
    "To do it explicitly, we can do that as well."
   ]
  },
  {
   "cell_type": "code",
   "execution_count": 58,
   "metadata": {},
   "outputs": [
    {
     "name": "stdout",
     "output_type": "stream",
     "text": [
      "def tf__greater_python(x, y):\n",
      "    do_return = False\n",
      "    retval_ = ag__.UndefinedReturnValue()\n",
      "    with ag__.FunctionScope('greater_python', 'fscope', ag__.ConversionOptions(recursive=True, user_requested=True, optional_features=(), internal_convert_user_code=True)) as fscope:\n",
      "\n",
      "        def get_state():\n",
      "            return ()\n",
      "\n",
      "        def set_state(loop_vars):\n",
      "            pass\n",
      "\n",
      "        def if_true():\n",
      "            try:\n",
      "                do_return = True\n",
      "                retval_ = fscope.mark_return_value(True)\n",
      "            except:\n",
      "                do_return = False\n",
      "                raise\n",
      "            return (do_return, retval_)\n",
      "\n",
      "        def if_false():\n",
      "            try:\n",
      "                do_return = True\n",
      "                retval_ = fscope.mark_return_value(False)\n",
      "            except:\n",
      "                do_return = False\n",
      "                raise\n",
      "            return (do_return, retval_)\n",
      "        cond = (x > y)\n",
      "        (do_return, retval_) = ag__.if_stmt(cond, if_true, if_false, get_state, set_state, ('do_return', 'retval_'), ())\n",
      "    (do_return,)\n",
      "    return ag__.retval(retval_)\n",
      "\n"
     ]
    }
   ],
   "source": [
    "code = tf.autograph.to_code(greater_python)\n",
    "print(code)"
   ]
  },
  {
   "cell_type": "markdown",
   "metadata": {},
   "source": [
    "## Performance\n",
    "\n",
    "In the end, this is what matters. And a comparison would be nice. Let's do that and see how Numpy and TensorFlow compare."
   ]
  },
  {
   "cell_type": "code",
   "execution_count": 59,
   "metadata": {},
   "outputs": [],
   "source": [
    "nevents = 10000000\n",
    "data_tf = tf.random.uniform(shape=(nevents,), dtype=tf.float64)\n",
    "data_np = np.random.uniform(size=(nevents,))"
   ]
  },
  {
   "cell_type": "code",
   "execution_count": 60,
   "metadata": {},
   "outputs": [],
   "source": [
    "def calc_np(x):\n",
    "    x_init = x\n",
    "    i = 42.\n",
    "    x = np.sqrt(np.abs(x_init * (i + 1.)))\n",
    "    x = np.cos(x - 0.3)\n",
    "    x = np.power(x, i + 1)\n",
    "    x = np.sinh(x + 0.4)\n",
    "    x = x ** 2\n",
    "    x = x / np.mean(x)\n",
    "    x = np.abs(x)\n",
    "    logx = np.log(x)\n",
    "    x = np.mean(logx)\n",
    "    \n",
    "    x1 = np.sqrt(np.abs(x_init * (i + 1.)))\n",
    "    x1 = np.cos(x1 - 0.3)\n",
    "    x1 = np.power(x1, i + 1)\n",
    "    x1 = np.sinh(x1 + 0.4)\n",
    "    x1 = x1 ** 2\n",
    "    x1 = x1 / np.mean(x1)\n",
    "    x1 = np.abs(x1)\n",
    "    logx = np.log(x1)\n",
    "    x1 = np.mean(logx)\n",
    "    \n",
    "    x2 = np.sqrt(np.abs(x_init * (i + 1.)))\n",
    "    x2 = np.cos(x2 - 0.3)\n",
    "    x2 = np.power(x2, i + 1)\n",
    "    x2 = np.sinh(x2 + 0.4)\n",
    "    x2 = x2 ** 2\n",
    "    x2 = x2 / np.mean(x2)\n",
    "    x2 = np.abs(x2)\n",
    "    logx = np.log(x2)\n",
    "    x2 = np.mean(logx)\n",
    "    return x + x1 + x2\n",
    "\n",
    "calc_np_numba = numba.jit(nopython=True, parallel=True)(calc_np)"
   ]
  },
  {
   "cell_type": "code",
   "execution_count": 61,
   "metadata": {},
   "outputs": [],
   "source": [
    "def calc_tf(x):\n",
    "    x_init = x\n",
    "    i = 42.\n",
    "    x = tf.sqrt(tf.abs(x_init * (tf.cast(i, dtype=tf.float64) + 1.)))\n",
    "    x = tf.cos(x - 0.3)\n",
    "    x = tf.pow(x, tf.cast(i + 1, tf.float64))\n",
    "    x = tf.sinh(x + 0.4)\n",
    "    x = x ** 2\n",
    "    x = x / tf.reduce_mean(x)\n",
    "    x = tf.abs(x)\n",
    "    x = tf.reduce_mean(tf.math.log(x))\n",
    "    \n",
    "    x1 = tf.sqrt(tf.abs(x_init * (tf.cast(i, dtype=tf.float64) + 1.)))\n",
    "    x1 = tf.cos(x1 - 0.3)\n",
    "    x1 = tf.pow(x1, tf.cast(i + 1, tf.float64))\n",
    "    x1 = tf.sinh(x1 + 0.4)\n",
    "    x1 = x1 ** 2\n",
    "    x1 = x1 / tf.reduce_mean(x1)\n",
    "    x1 = tf.abs(x1)\n",
    "    \n",
    "    x2 = tf.sqrt(tf.abs(x_init * (tf.cast(i, dtype=tf.float64) + 1.)))\n",
    "    x2 = tf.cos(x2 - 0.3)\n",
    "    x2 = tf.pow(x2, tf.cast(i + 1, tf.float64))\n",
    "    x2 = tf.sinh(x2 + 0.4)\n",
    "    x2 = x2 ** 2\n",
    "    x2 = x2 / tf.reduce_mean(x2)\n",
    "    x2 = tf.abs(x2)\n",
    "    \n",
    "    return x + x1 + x2\n",
    "\n",
    "calc_tf_func = tf.function(calc_tf, autograph=False)"
   ]
  },
  {
   "cell_type": "code",
   "execution_count": 62,
   "metadata": {},
   "outputs": [
    {
     "name": "stdout",
     "output_type": "stream",
     "text": [
      "192 ms ± 0 ns per loop (mean ± std. dev. of 1 run, 1 loop each)\n"
     ]
    }
   ],
   "source": [
    "%%timeit -n1 -r1  # compile time, just for curiosity\n",
    "calc_tf_func(data_tf)"
   ]
  },
  {
   "cell_type": "code",
   "execution_count": 63,
   "metadata": {},
   "outputs": [
    {
     "name": "stdout",
     "output_type": "stream",
     "text": [
      "2.79 s ± 0 ns per loop (mean ± std. dev. of 1 run, 1 loop each)\n"
     ]
    }
   ],
   "source": [
    "%%timeit -n1 -r1  # compile time, just for curiosity\n",
    "calc_np_numba(data_np)"
   ]
  },
  {
   "cell_type": "code",
   "execution_count": 64,
   "metadata": {},
   "outputs": [
    {
     "name": "stdout",
     "output_type": "stream",
     "text": [
      "2.01 s ± 23.9 ms per loop (mean ± std. dev. of 7 runs, 1 loop each)\n"
     ]
    }
   ],
   "source": [
    "%timeit calc_np(data_np)  # not compiled"
   ]
  },
  {
   "cell_type": "code",
   "execution_count": 65,
   "metadata": {},
   "outputs": [
    {
     "name": "stdout",
     "output_type": "stream",
     "text": [
      "721 ms ± 27.3 ms per loop (mean ± std. dev. of 7 runs, 1 loop each)\n"
     ]
    }
   ],
   "source": [
    "%timeit calc_tf(data_tf)  # not compiled"
   ]
  },
  {
   "cell_type": "code",
   "execution_count": 66,
   "metadata": {},
   "outputs": [
    {
     "name": "stdout",
     "output_type": "stream",
     "text": [
      "400 ms ± 2.65 ms per loop (mean ± std. dev. of 7 runs, 1 loop each)\n"
     ]
    }
   ],
   "source": [
    "%%timeit -n1 -r7\n",
    "calc_np_numba(data_np)"
   ]
  },
  {
   "cell_type": "code",
   "execution_count": 67,
   "metadata": {},
   "outputs": [
    {
     "name": "stdout",
     "output_type": "stream",
     "text": [
      "181 ms ± 9.76 ms per loop (mean ± std. dev. of 7 runs, 1 loop each)\n"
     ]
    }
   ],
   "source": [
    "%%timeit -n1 -r7\n",
    "calc_tf_func(data_tf)"
   ]
  },
  {
   "cell_type": "markdown",
   "metadata": {},
   "source": [
    "We can now play around with this numbers. Depending on the size (we can go up to 10 mio) and parallelizability of the problem, the numbers differ..\n",
    "\n",
    "In general:\n",
    "- Numpy is faster for small numbers\n",
    "- TensorFlow is faster for larger arrays and well parallelizable computations. Due to the larger overhead in dispatching in eager mode, it is significantly slower for very small (1-10) sample sizes.\n",
    "\n",
    "=> there is no free lunch\n",
    "\n",
    "Note: this has not run on a GPU, which would automatically happen for TensorFlow."
   ]
  },
  {
   "cell_type": "code",
   "execution_count": 184,
   "metadata": {},
   "outputs": [],
   "source": [
    "def calc_tf2(x, n):\n",
    "    sum_init = tf.zeros_like(x)\n",
    "    for i in range(1, n + 1):\n",
    "        x = tf.sqrt(tf.abs(x * (tf.cast(i, dtype=tf.float64) + 1.)))\n",
    "        x = tf.cos(x - 0.3)\n",
    "        x = tf.pow(x, tf.cast(i + 1, tf.float64))\n",
    "        x = tf.sinh(x + 0.4)\n",
    "        x = x ** 2\n",
    "        x = x / tf.reduce_mean(x, axis=None)\n",
    "        x = tf.abs(x)\n",
    "        x = x - tf.reduce_mean(tf.math.log(x, name=\"Jonas_log\"), name=\"Jonas_mean\")  # name for ops, see later ;)\n",
    "        sum_init += x\n",
    "    return sum_init\n",
    "\n",
    "calc_tf_func2 = tf.function(calc_tf2, autograph=False)\n",
    "\n",
    "@numba.njit(parallel=True)  # njit is equal to jit(nopython=True), meaning \"compile everything or raise error\"\n",
    "def calc_numba2(x, n):\n",
    "    sum_init = np.zeros_like(x)\n",
    "    for i in range(1, n + 1):\n",
    "        x = np.sqrt(np.abs(x * (i + 1.)))\n",
    "        x = np.cos(x - 0.3)\n",
    "        x = np.power(x, i + 1)\n",
    "        x = np.sinh(x + 0.4)\n",
    "        x = x ** 2\n",
    "        x = x / np.mean(x)\n",
    "        x = np.abs(x)\n",
    "        x = x - np.mean(np.log(x))\n",
    "        sum_init += x\n",
    "    return sum_init"
   ]
  },
  {
   "cell_type": "code",
   "execution_count": 69,
   "metadata": {},
   "outputs": [
    {
     "name": "stdout",
     "output_type": "stream",
     "text": [
      "936 ms ± 0 ns per loop (mean ± std. dev. of 1 run, 1 loop each)\n"
     ]
    }
   ],
   "source": [
    "%%timeit -n1 -r1  #compile\n",
    "calc_numba2(rnd1_big.numpy(), 1)"
   ]
  },
  {
   "cell_type": "code",
   "execution_count": 70,
   "metadata": {},
   "outputs": [
    {
     "data": {
      "text/plain": [
       "array([2.44106763, 1.57559678, 1.41465653, ..., 1.06970403, 0.8020929 ,\n",
       "       0.69118826])"
      ]
     },
     "execution_count": 70,
     "metadata": {},
     "output_type": "execute_result"
    }
   ],
   "source": [
    "calc_numba2(rnd1_big.numpy(), 1)"
   ]
  },
  {
   "cell_type": "code",
   "execution_count": 71,
   "metadata": {},
   "outputs": [
    {
     "name": "stdout",
     "output_type": "stream",
     "text": [
      "20.5 ms ± 0 ns per loop (mean ± std. dev. of 1 run, 1 loop each)\n"
     ]
    }
   ],
   "source": [
    "%%timeit -n1 -r1  #compile\n",
    "calc_tf_func2(rnd1_big, 1)"
   ]
  },
  {
   "cell_type": "code",
   "execution_count": 72,
   "metadata": {},
   "outputs": [
    {
     "data": {
      "text/plain": [
       "<tf.Tensor: shape=(100000,), dtype=float64, numpy=\n",
       "array([2.44106763, 1.57559678, 1.41465653, ..., 1.06970403, 0.8020929 ,\n",
       "       0.69118826])>"
      ]
     },
     "execution_count": 72,
     "metadata": {},
     "output_type": "execute_result"
    }
   ],
   "source": [
    "calc_tf_func2(rnd1_big, 1)"
   ]
  },
  {
   "cell_type": "code",
   "execution_count": 73,
   "metadata": {},
   "outputs": [
    {
     "name": "stdout",
     "output_type": "stream",
     "text": [
      "2.08 ms ± 74.4 µs per loop (mean ± std. dev. of 7 runs, 100 loops each)\n"
     ]
    }
   ],
   "source": [
    "%%timeit\n",
    "calc_numba2(rnd1_big.numpy(), 1)"
   ]
  },
  {
   "cell_type": "code",
   "execution_count": 74,
   "metadata": {},
   "outputs": [
    {
     "name": "stdout",
     "output_type": "stream",
     "text": [
      "1.37 ms ± 14.6 µs per loop (mean ± std. dev. of 7 runs, 1000 loops each)\n"
     ]
    }
   ],
   "source": [
    "%%timeit\n",
    "calc_tf_func2(rnd1_big, 1)"
   ]
  },
  {
   "cell_type": "code",
   "execution_count": 75,
   "metadata": {},
   "outputs": [
    {
     "data": {
      "text/plain": [
       "<tf.Tensor: shape=(100000,), dtype=float64, numpy=\n",
       "array([13.92446397, 15.40159755, 12.99920382, ..., 16.28577591,\n",
       "       13.5781476 , 24.10426561])>"
      ]
     },
     "execution_count": 75,
     "metadata": {},
     "output_type": "execute_result"
    }
   ],
   "source": [
    "calc_tf_func2(rnd1_big, 10)"
   ]
  },
  {
   "cell_type": "code",
   "execution_count": 76,
   "metadata": {},
   "outputs": [
    {
     "data": {
      "text/plain": [
       "array([13.92446397, 15.40159755, 12.99920382, ..., 16.28577591,\n",
       "       13.5781476 , 24.10426561])"
      ]
     },
     "execution_count": 76,
     "metadata": {},
     "output_type": "execute_result"
    }
   ],
   "source": [
    "calc_numba2(rnd1_big.numpy(), 10)"
   ]
  },
  {
   "cell_type": "code",
   "execution_count": 77,
   "metadata": {},
   "outputs": [
    {
     "name": "stdout",
     "output_type": "stream",
     "text": [
      "20.1 ms ± 135 µs per loop (mean ± std. dev. of 7 runs, 100 loops each)\n"
     ]
    }
   ],
   "source": [
    "%%timeit\n",
    "calc_numba2(rnd1_big.numpy(), 10)"
   ]
  },
  {
   "cell_type": "code",
   "execution_count": 78,
   "metadata": {},
   "outputs": [
    {
     "name": "stdout",
     "output_type": "stream",
     "text": [
      "16.9 ms ± 737 µs per loop (mean ± std. dev. of 7 runs, 100 loops each)\n"
     ]
    }
   ],
   "source": [
    "%%timeit\n",
    "calc_tf_func2(rnd1_big, 10)"
   ]
  },
  {
   "cell_type": "markdown",
   "metadata": {},
   "source": [
    "## Control flow\n",
    "\n",
    "While TensorFlow is independent of the Python control flow, it has its own functions for that, mainly:\n",
    "- while_loop(): a while loop taking a body and condition function\n",
    "- cond(): if-like\n",
    "- case and switch_case: if/elif statements\n",
    "- tf.where"
   ]
  },
  {
   "cell_type": "code",
   "execution_count": 79,
   "metadata": {},
   "outputs": [],
   "source": [
    "def true_fn():\n",
    "    return 1.\n",
    "\n",
    "def false_fn():\n",
    "    return 0.\n",
    "\n",
    "value = tf.cond(tf.greater(111., 42.), true_fn=true_fn, false_fn=false_fn)"
   ]
  },
  {
   "cell_type": "code",
   "execution_count": 80,
   "metadata": {},
   "outputs": [
    {
     "data": {
      "text/plain": [
       "1.0"
      ]
     },
     "execution_count": 80,
     "metadata": {},
     "output_type": "execute_result"
    }
   ],
   "source": [
    "value"
   ]
  },
  {
   "cell_type": "markdown",
   "metadata": {},
   "source": [
    "### While loops\n",
    "\n",
    "We can create while loops in order to have some kind of repetitive task"
   ]
  },
  {
   "cell_type": "code",
   "execution_count": 81,
   "metadata": {},
   "outputs": [],
   "source": [
    "def cond(x, y):\n",
    "    return x > y\n",
    "\n",
    "def body(x, y):\n",
    "    return x / 2, y + 1\n",
    "\n",
    "x, y = tf.while_loop(cond=cond,\n",
    "                     body=body,\n",
    "                     loop_vars=[100., 1.])"
   ]
  },
  {
   "cell_type": "code",
   "execution_count": 82,
   "metadata": {},
   "outputs": [
    {
     "data": {
      "text/plain": [
       "(<tf.Tensor: shape=(), dtype=float32, numpy=3.125>,\n",
       " <tf.Tensor: shape=(), dtype=float32, numpy=6.0>)"
      ]
     },
     "execution_count": 82,
     "metadata": {},
     "output_type": "execute_result"
    }
   ],
   "source": [
    "x, y"
   ]
  },
  {
   "cell_type": "markdown",
   "metadata": {},
   "source": [
    "### map a function\n",
    "\n",
    "We can also map a function on each element. While this is not very efficient, it allows for high flexibility."
   ]
  },
  {
   "cell_type": "code",
   "execution_count": 83,
   "metadata": {},
   "outputs": [
    {
     "name": "stdout",
     "output_type": "stream",
     "text": [
      "10.8 s ± 0 ns per loop (mean ± std. dev. of 1 run, 1 loop each)\n"
     ]
    }
   ],
   "source": [
    "%%timeit -n1 -r1\n",
    "tf.map_fn(tf.math.sin, rnd1_big)"
   ]
  },
  {
   "cell_type": "code",
   "execution_count": 84,
   "metadata": {},
   "outputs": [
    {
     "name": "stdout",
     "output_type": "stream",
     "text": [
      "52.5 ms ± 0 ns per loop (mean ± std. dev. of 1 run, 1 loop each)\n"
     ]
    }
   ],
   "source": [
    "%%timeit -n1 -r1\n",
    "tf.vectorized_map(tf.math.sin, rnd1_big)  # can speedup things sometimes"
   ]
  },
  {
   "cell_type": "code",
   "execution_count": 85,
   "metadata": {},
   "outputs": [
    {
     "data": {
      "text/plain": [
       "<tf.Tensor: shape=(100000,), dtype=float64, numpy=\n",
       "array([-0.65656248, -0.91235429,  0.97561133, ...,  0.51088504,\n",
       "       -0.00672329,  0.15346295])>"
      ]
     },
     "execution_count": 85,
     "metadata": {},
     "output_type": "execute_result"
    }
   ],
   "source": [
    "@tf.function(autograph=False)\n",
    "def do_map(func, tensor):\n",
    "    return tf.map_fn(func, tensor)\n",
    "\n",
    "do_map(tf.math.sin, rnd1_big)"
   ]
  },
  {
   "cell_type": "code",
   "execution_count": 86,
   "metadata": {},
   "outputs": [
    {
     "name": "stdout",
     "output_type": "stream",
     "text": [
      "860 ms ± 24.3 ms per loop (mean ± std. dev. of 7 runs, 1 loop each)\n"
     ]
    }
   ],
   "source": [
    "%%timeit -n1\n",
    "do_map(tf.math.sin, rnd1_big)"
   ]
  },
  {
   "cell_type": "code",
   "execution_count": 87,
   "metadata": {},
   "outputs": [
    {
     "name": "stdout",
     "output_type": "stream",
     "text": [
      "459 µs ± 26.5 µs per loop (mean ± std. dev. of 7 runs, 1000 loops each)\n"
     ]
    }
   ],
   "source": [
    "%%timeit\n",
    "tf.math.sin(rnd1_big)"
   ]
  },
  {
   "cell_type": "markdown",
   "metadata": {},
   "source": [
    "This mapping is surely not optimal. However, it works."
   ]
  },
  {
   "cell_type": "markdown",
   "metadata": {},
   "source": [
    "## Gradients\n",
    "\n",
    "TensorFlow allows us to calculate the automatic gradients."
   ]
  },
  {
   "cell_type": "code",
   "execution_count": 88,
   "metadata": {},
   "outputs": [],
   "source": [
    "var2 = tf.Variable(2.)"
   ]
  },
  {
   "cell_type": "code",
   "execution_count": 89,
   "metadata": {},
   "outputs": [
    {
     "data": {
      "text/plain": [
       "<tf.Tensor: shape=(), dtype=float32, numpy=8.0>"
      ]
     },
     "execution_count": 89,
     "metadata": {},
     "output_type": "execute_result"
    }
   ],
   "source": [
    "with tf.GradientTape() as tape:\n",
    "    tape.watch(var2)  # actually watches all variables already by default\n",
    "    y = var2 ** 3\n",
    "y"
   ]
  },
  {
   "cell_type": "code",
   "execution_count": 90,
   "metadata": {},
   "outputs": [
    {
     "data": {
      "text/plain": [
       "<tf.Tensor: shape=(), dtype=float32, numpy=12.0>"
      ]
     },
     "execution_count": 90,
     "metadata": {},
     "output_type": "execute_result"
    }
   ],
   "source": [
    "grad = tape.gradient(y, var2)\n",
    "grad"
   ]
  },
  {
   "cell_type": "markdown",
   "metadata": {},
   "source": [
    "## Tasks to try out\n",
    "\n",
    "Following are a few ideas to check whether you understand things\n",
    "\n",
    " - can you get the second derivative? play around ;)\n",
    " - write a shape that you know as a function\n",
    " - create the MC integral of it over a certain range"
   ]
  },
  {
   "cell_type": "markdown",
   "metadata": {},
   "source": [
    "This allows to do many things with gradients and e.g. solve differential equations."
   ]
  },
  {
   "cell_type": "markdown",
   "metadata": {},
   "source": [
    "\n"
   ]
  },
  {
   "cell_type": "markdown",
   "metadata": {},
   "source": [
    "## Bonus: the graph\n",
    "\n",
    "We talked about the graph back and forth, but _where is it_ ?\n",
    "\n",
    "The graph can be retained from a function that was already traced."
   ]
  },
  {
   "cell_type": "code",
   "execution_count": 176,
   "metadata": {},
   "outputs": [
    {
     "data": {
      "text/plain": [
       "<tensorflow.python.eager.function.ConcreteFunction at 0x7ff0384db4f0>"
      ]
     },
     "execution_count": 176,
     "metadata": {},
     "output_type": "execute_result"
    }
   ],
   "source": [
    "concrete_func = calc_tf_func2.get_concrete_function(rnd1, 2)\n",
    "concrete_func"
   ]
  },
  {
   "cell_type": "code",
   "execution_count": 177,
   "metadata": {},
   "outputs": [
    {
     "data": {
      "text/plain": [
       "<tensorflow.python.framework.func_graph.FuncGraph at 0x7ff038387490>"
      ]
     },
     "execution_count": 177,
     "metadata": {},
     "output_type": "execute_result"
    }
   ],
   "source": [
    "graph = concrete_func.graph\n",
    "graph"
   ]
  },
  {
   "cell_type": "code",
   "execution_count": 178,
   "metadata": {},
   "outputs": [
    {
     "data": {
      "text/plain": [
       "[<tf.Operation 'x' type=Placeholder>,\n",
       " <tf.Operation 'zeros_like' type=Const>,\n",
       " <tf.Operation 'Cast/x' type=Const>,\n",
       " <tf.Operation 'Cast' type=Cast>,\n",
       " <tf.Operation 'add/y' type=Const>,\n",
       " <tf.Operation 'add' type=AddV2>,\n",
       " <tf.Operation 'mul' type=Mul>,\n",
       " <tf.Operation 'Abs' type=Abs>,\n",
       " <tf.Operation 'Sqrt' type=Sqrt>,\n",
       " <tf.Operation 'sub/y' type=Const>,\n",
       " <tf.Operation 'sub' type=Sub>,\n",
       " <tf.Operation 'Cos' type=Cos>,\n",
       " <tf.Operation 'Cast_1/x' type=Const>,\n",
       " <tf.Operation 'Cast_1' type=Cast>,\n",
       " <tf.Operation 'Pow' type=Pow>,\n",
       " <tf.Operation 'add_1/y' type=Const>,\n",
       " <tf.Operation 'add_1' type=AddV2>,\n",
       " <tf.Operation 'Sinh' type=Sinh>,\n",
       " <tf.Operation 'pow_1/y' type=Const>,\n",
       " <tf.Operation 'pow_1' type=Pow>,\n",
       " <tf.Operation 'Const' type=Const>,\n",
       " <tf.Operation 'Mean' type=Mean>,\n",
       " <tf.Operation 'truediv' type=RealDiv>,\n",
       " <tf.Operation 'Abs_1' type=Abs>,\n",
       " <tf.Operation 'Jonas_log' type=Log>,\n",
       " <tf.Operation 'Const_1' type=Const>,\n",
       " <tf.Operation 'Jonas_mean' type=Mean>,\n",
       " <tf.Operation 'sub_1' type=Sub>,\n",
       " <tf.Operation 'add_2' type=AddV2>,\n",
       " <tf.Operation 'Cast_2/x' type=Const>,\n",
       " <tf.Operation 'Cast_2' type=Cast>,\n",
       " <tf.Operation 'add_3/y' type=Const>,\n",
       " <tf.Operation 'add_3' type=AddV2>,\n",
       " <tf.Operation 'mul_1' type=Mul>,\n",
       " <tf.Operation 'Abs_2' type=Abs>,\n",
       " <tf.Operation 'Sqrt_1' type=Sqrt>,\n",
       " <tf.Operation 'sub_2/y' type=Const>,\n",
       " <tf.Operation 'sub_2' type=Sub>,\n",
       " <tf.Operation 'Cos_1' type=Cos>,\n",
       " <tf.Operation 'Cast_3/x' type=Const>,\n",
       " <tf.Operation 'Cast_3' type=Cast>,\n",
       " <tf.Operation 'Pow_2' type=Pow>,\n",
       " <tf.Operation 'add_4/y' type=Const>,\n",
       " <tf.Operation 'add_4' type=AddV2>,\n",
       " <tf.Operation 'Sinh_1' type=Sinh>,\n",
       " <tf.Operation 'pow_3/y' type=Const>,\n",
       " <tf.Operation 'pow_3' type=Pow>,\n",
       " <tf.Operation 'Const_2' type=Const>,\n",
       " <tf.Operation 'Mean_1' type=Mean>,\n",
       " <tf.Operation 'truediv_1' type=RealDiv>,\n",
       " <tf.Operation 'Abs_3' type=Abs>,\n",
       " <tf.Operation 'Jonas_log_1' type=Log>,\n",
       " <tf.Operation 'Const_3' type=Const>,\n",
       " <tf.Operation 'Jonas_mean_1' type=Mean>,\n",
       " <tf.Operation 'sub_3' type=Sub>,\n",
       " <tf.Operation 'add_5' type=AddV2>,\n",
       " <tf.Operation 'Identity' type=Identity>]"
      ]
     },
     "execution_count": 178,
     "metadata": {},
     "output_type": "execute_result"
    }
   ],
   "source": [
    "ops = graph.get_operations()\n",
    "ops"
   ]
  },
  {
   "cell_type": "code",
   "execution_count": 179,
   "metadata": {},
   "outputs": [
    {
     "data": {
      "text/plain": [
       "<tf.Operation 'Jonas_log_1' type=Log>"
      ]
     },
     "execution_count": 179,
     "metadata": {},
     "output_type": "execute_result"
    }
   ],
   "source": [
    "log_op = ops[-6]\n",
    "log_op"
   ]
  },
  {
   "cell_type": "code",
   "execution_count": 180,
   "metadata": {},
   "outputs": [
    {
     "data": {
      "text/plain": [
       "[<tf.Tensor 'Jonas_log_1:0' shape=(10,) dtype=float64>]"
      ]
     },
     "execution_count": 180,
     "metadata": {},
     "output_type": "execute_result"
    }
   ],
   "source": [
    "log_op.outputs"
   ]
  },
  {
   "cell_type": "code",
   "execution_count": 181,
   "metadata": {},
   "outputs": [
    {
     "data": {
      "text/plain": [
       "(<tf.Tensor 'Jonas_log_1:0' shape=(10,) dtype=float64>,\n",
       " <tf.Tensor 'Const_3:0' shape=(1,) dtype=int32>)"
      ]
     },
     "execution_count": 181,
     "metadata": {},
     "output_type": "execute_result"
    }
   ],
   "source": [
    "op_inputs_mean = ops[-4].inputs\n",
    "op_inputs_mean"
   ]
  },
  {
   "cell_type": "code",
   "execution_count": 182,
   "metadata": {},
   "outputs": [
    {
     "data": {
      "text/plain": [
       "True"
      ]
     },
     "execution_count": 182,
     "metadata": {},
     "output_type": "execute_result"
    }
   ],
   "source": [
    "log_op.outputs[0] is op_inputs_mean[0]"
   ]
  },
  {
   "cell_type": "markdown",
   "metadata": {},
   "source": [
    "The output of the log operation is the input to the mean operation! We can just walk along the graph here. TensorFlow Graphs are no magic, they are simple object that store their input, their output, their operation. That's it!"
   ]
  }
 ],
 "metadata": {
  "kernelspec": {
   "display_name": "Python 3",
   "language": "python",
   "name": "python3"
  },
  "language_info": {
   "codemirror_mode": {
    "name": "ipython",
    "version": 3
   },
   "file_extension": ".py",
   "mimetype": "text/x-python",
   "name": "python",
   "nbconvert_exporter": "python",
   "pygments_lexer": "ipython3",
   "version": "3.8.3"
  }
 },
 "nbformat": 4,
 "nbformat_minor": 4
}
